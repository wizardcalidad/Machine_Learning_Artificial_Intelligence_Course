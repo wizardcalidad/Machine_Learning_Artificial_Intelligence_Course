{
  "nbformat": 4,
  "nbformat_minor": 0,
  "metadata": {
    "colab": {
      "name": "manifold_learning.ipynb",
      "provenance": [],
      "collapsed_sections": [],
      "authorship_tag": "ABX9TyMCNiMGyhwOEgt/X7jnBtqT",
      "include_colab_link": true
    },
    "kernelspec": {
      "name": "python3",
      "display_name": "Python 3"
    }
  },
  "cells": [
    {
      "cell_type": "markdown",
      "metadata": {
        "id": "view-in-github",
        "colab_type": "text"
      },
      "source": [
        "<a href=\"https://colab.research.google.com/github/wizardcalidad/Machine_Learning_Artificial_Intelligence_Course/blob/pythoncodes/manifold_learning.ipynb\" target=\"_parent\"><img src=\"https://colab.research.google.com/assets/colab-badge.svg\" alt=\"Open In Colab\"/></a>"
      ]
    },
    {
      "cell_type": "code",
      "metadata": {
        "colab": {
          "base_uri": "https://localhost:8080/"
        },
        "id": "UNsn1R0iOR9w",
        "outputId": "7051ac4d-ec73-4a22-a417-c2fc8244f87a"
      },
      "source": [
        "for i in range(1500, 2001):\n",
        "  if(i%7==0) and (i%5==0):\n",
        "    print(i)"
      ],
      "execution_count": 1,
      "outputs": [
        {
          "output_type": "stream",
          "text": [
            "1505\n",
            "1540\n",
            "1575\n",
            "1610\n",
            "1645\n",
            "1680\n",
            "1715\n",
            "1750\n",
            "1785\n",
            "1820\n",
            "1855\n",
            "1890\n",
            "1925\n",
            "1960\n",
            "1995\n"
          ],
          "name": "stdout"
        }
      ]
    },
    {
      "cell_type": "code",
      "metadata": {
        "colab": {
          "base_uri": "https://localhost:8080/"
        },
        "id": "9NevEhatOucL",
        "outputId": "e2ec3904-17a9-40e2-82f4-47e2ff66fa11"
      },
      "source": [
        "y = (1,2,3,4,5,6,7,8,9)\n",
        "even_numbers = []\n",
        "odd_numbers = []\n",
        "\n",
        "for i in y:\n",
        "  if i%2 == 0:\n",
        "    even_numbers.append(i)\n",
        "  else:\n",
        "    odd_numbers.append(i)\n",
        "\n",
        "print(\"Number of even numbers:\", len(even_numbers))\n",
        "print(\"Number of odd numbers:\", len(odd_numbers))"
      ],
      "execution_count": 2,
      "outputs": [
        {
          "output_type": "stream",
          "text": [
            "Number of even numbers: 4\n",
            "Number of odd numbers: 5\n"
          ],
          "name": "stdout"
        }
      ]
    },
    {
      "cell_type": "markdown",
      "metadata": {
        "id": "wlztmC4QQ-XX"
      },
      "source": [
        "Manifold learning using Locally Linear Embedding(non-linear dimensionality reduction)"
      ]
    },
    {
      "cell_type": "code",
      "metadata": {
        "id": "W_z2coaZQIWD"
      },
      "source": [
        "import numpy as np\n",
        "import pandas as pd\n",
        "import matplotlib.pyplot as plt\n",
        "\n",
        "from sklearn.manifold import LocallyLinearEmbedding\n",
        "from sklearn import manifold, datasets\n",
        "from sklearn.decomposition import PCA\n",
        "\n",
        "from collections import OrderedDict\n",
        "from functools import partial\n",
        "from time import time\n",
        "from mpl_toolkits.mplot3d import Axes3D\n",
        "from matplotlib.ticker import NullFormatter\n"
      ],
      "execution_count": 3,
      "outputs": []
    },
    {
      "cell_type": "code",
      "metadata": {
        "id": "u7DBv_lmbOOv"
      },
      "source": [
        "n_points = 1000\n",
        "X, color = datasets.make_swiss_roll(n_points, random_state=0)\n",
        "n_neighbors = 10\n",
        "n_components = 2\n"
      ],
      "execution_count": 4,
      "outputs": []
    },
    {
      "cell_type": "markdown",
      "metadata": {
        "id": "6f80DSnAbrYU"
      },
      "source": [
        "\n",
        "creating the plot"
      ]
    },
    {
      "cell_type": "code",
      "metadata": {
        "colab": {
          "base_uri": "https://localhost:8080/",
          "height": 53
        },
        "id": "VIkmR7kTbwLd",
        "outputId": "ce3de9e4-a276-48dd-f8d8-e00fbf4fe6dc"
      },
      "source": [
        "fig = plt.figure(figsize=(15,8))\n",
        "fig.suptitle(\"Manifold Learning with %i points, %i neighbors\" % (1000, n_neighbors), fontsize=14)"
      ],
      "execution_count": 5,
      "outputs": [
        {
          "output_type": "execute_result",
          "data": {
            "text/plain": [
              "Text(0.5, 0.98, 'Manifold Learning with 1000 points, 10 neighbors')"
            ]
          },
          "metadata": {
            "tags": []
          },
          "execution_count": 5
        },
        {
          "output_type": "display_data",
          "data": {
            "text/plain": [
              "<Figure size 1080x576 with 0 Axes>"
            ]
          },
          "metadata": {
            "tags": []
          }
        }
      ]
    },
    {
      "cell_type": "markdown",
      "metadata": {
        "id": "VJRfkGi-ctUO"
      },
      "source": [
        "Adding 3D scatter plot"
      ]
    },
    {
      "cell_type": "code",
      "metadata": {
        "id": "pjG2gzwKc0XL"
      },
      "source": [
        "ax = fig.add_subplot(231, projection='3d')\n",
        "ax.scatter(X[:,0],X[:,1],X[:,2], c=color, cmap=plt.cm.Spectral)\n",
        "ax.view_init(4,-72)"
      ],
      "execution_count": 6,
      "outputs": []
    },
    {
      "cell_type": "markdown",
      "metadata": {
        "id": "FEq6XDQje-1P"
      },
      "source": [
        "Making a dictionary methods containing lle, t-SNE, and PCA\n",
        "\n",
        "---\n",
        "\n"
      ]
    },
    {
      "cell_type": "markdown",
      "metadata": {
        "id": "kFU2QWiyeWWB"
      },
      "source": [
        ""
      ]
    },
    {
      "cell_type": "code",
      "metadata": {
        "id": "pKHwnE9Zfu6H"
      },
      "source": [
        "LLE = partial(manifold.LocallyLinearEmbedding, n_neighbors, n_components, eigen_solver='auto')\n",
        "methods = OrderedDict()\n",
        "methods['LLE'] = LLE(method='standard')\n",
        "methods['t-SNE'] = manifold.TSNE(n_components=n_components, init='pca', random_state=0)\n",
        "methods['PCA'] =PCA(n_components=2)"
      ],
      "execution_count": 7,
      "outputs": []
    },
    {
      "cell_type": "markdown",
      "metadata": {
        "id": "SlyApCLckTTO"
      },
      "source": [
        "Plotting the results"
      ]
    },
    {
      "cell_type": "code",
      "metadata": {
        "colab": {
          "base_uri": "https://localhost:8080/"
        },
        "id": "_hhz66GPZEPm",
        "outputId": "55d93022-301a-4741-8b7d-e3ad14bff810"
      },
      "source": [
        "for i, (label, method) in enumerate(methods.items()):\n",
        "  t0 = time()\n",
        "  Y = method.fit_transform(X)\n",
        "  t1 = time()\n",
        "  print(\"%s: %.2g sec\" % (label, t1 - t0))\n",
        "  ax = fig.add_subplot(2, 3, 2 + i+(i>1))\n",
        "  ax.scatter(Y[:,0], Y[:,1], c=color, cmap=plt.cm.Spectral)\n",
        "  ax.set_title(\"%s (%.2g sec)\" % (label, t1 -t0))\n",
        "  ax.xaxis.set_major_formatter(NullFormatter())\n",
        "  ax.yaxis.set_major_formatter(NullFormatter())\n",
        "  ax.axis('tight')\n",
        "\n",
        "plt.show()"
      ],
      "execution_count": 8,
      "outputs": [
        {
          "output_type": "stream",
          "text": [
            "LLE: 0.28 sec\n",
            "t-SNE: 6.5 sec\n",
            "PCA: 0.0059 sec\n"
          ],
          "name": "stdout"
        }
      ]
    },
    {
      "cell_type": "code",
      "metadata": {
        "id": "siF70b9Icn7O"
      },
      "source": [
        ""
      ],
      "execution_count": 8,
      "outputs": []
    },
    {
      "cell_type": "code",
      "metadata": {
        "id": "YGZzHMacZhG9"
      },
      "source": [
        ""
      ],
      "execution_count": 8,
      "outputs": []
    },
    {
      "cell_type": "code",
      "metadata": {
        "id": "O5uSVukHZjn-"
      },
      "source": [
        ""
      ],
      "execution_count": 8,
      "outputs": []
    }
  ]
}