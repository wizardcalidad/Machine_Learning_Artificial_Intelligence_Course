{
 "cells": [
  {
   "cell_type": "code",
   "execution_count": 6,
   "metadata": {},
   "outputs": [],
   "source": [
    "import pandas as pd\n",
    "import tensorflow as tf\n",
    "from tensorflow import keras\n",
    "from sklearn.model_selection import train_test_split\n",
    "import numpy as np\n",
    "import matplotlib.pyplot as plt"
   ]
  },
  {
   "cell_type": "code",
   "execution_count": 7,
   "metadata": {},
   "outputs": [
    {
     "name": "stdout",
     "output_type": "stream",
     "text": [
      "['prop_1', 'prop_2', 'prop_3', 'prop_4']\n"
     ]
    }
   ],
   "source": [
    "df = pd.read_csv('molecular_activity.csv')\n",
    "df[\"prop_3\"] = df[\"prop_3\"].str.replace(\" \", \"\").astype(\"float32\")\n",
    "\n",
    "properties = list(df.columns.values)\n",
    "properties.remove('Activity')\n",
    "print(properties)\n",
    "X = df[properties]\n",
    "y = df['Activity']"
   ]
  },
  {
   "cell_type": "code",
   "execution_count": 8,
   "metadata": {},
   "outputs": [],
   "source": [
    "X_train, X_test, y_train, y_test = train_test_split(X, y, test_size=0.2, random_state=1)\n",
    "X_train, X_val, y_train, y_val = train_test_split(X_train, y_train, test_size=0.2, random_state=1)"
   ]
  },
  {
   "cell_type": "code",
   "execution_count": 9,
   "metadata": {},
   "outputs": [],
   "source": [
    "model = keras.Sequential([\n",
    "    keras.layers.Flatten(input_shape=(4,)),\n",
    "    keras.layers.Dense(4, activation=tf.nn.relu),\n",
    "\tkeras.layers.Dense(4, activation=tf.nn.relu),\n",
    "    keras.layers.Dense(1, activation=tf.nn.sigmoid),\n",
    "])"
   ]
  },
  {
   "cell_type": "code",
   "execution_count": 10,
   "metadata": {},
   "outputs": [
    {
     "name": "stdout",
     "output_type": "stream",
     "text": [
      "Epoch 1/34\n",
      "345/345 [==============================] - 0s 1ms/step - loss: 0.2740 - accuracy: 0.7101 - val_loss: 0.3358 - val_accuracy: 0.6437\n",
      "Epoch 2/34\n",
      "345/345 [==============================] - 0s 953us/step - loss: 0.2616 - accuracy: 0.7101 - val_loss: 0.3338 - val_accuracy: 0.6552\n",
      "Epoch 3/34\n",
      "345/345 [==============================] - 0s 793us/step - loss: 0.2593 - accuracy: 0.7246 - val_loss: 0.3360 - val_accuracy: 0.6552\n",
      "Epoch 4/34\n",
      "345/345 [==============================] - 0s 814us/step - loss: 0.2595 - accuracy: 0.7246 - val_loss: 0.3345 - val_accuracy: 0.6552\n",
      "Epoch 5/34\n",
      "345/345 [==============================] - 0s 830us/step - loss: 0.2588 - accuracy: 0.7275 - val_loss: 0.3335 - val_accuracy: 0.6552\n",
      "Epoch 6/34\n",
      "345/345 [==============================] - 0s 997us/step - loss: 0.2580 - accuracy: 0.7246 - val_loss: 0.3339 - val_accuracy: 0.6552\n",
      "Epoch 7/34\n",
      "345/345 [==============================] - 0s 786us/step - loss: 0.2577 - accuracy: 0.7275 - val_loss: 0.3334 - val_accuracy: 0.6552\n",
      "Epoch 8/34\n",
      "345/345 [==============================] - 0s 1ms/step - loss: 0.2582 - accuracy: 0.7246 - val_loss: 0.3348 - val_accuracy: 0.6552\n",
      "Epoch 9/34\n",
      "345/345 [==============================] - 0s 1ms/step - loss: 0.2573 - accuracy: 0.7246 - val_loss: 0.3324 - val_accuracy: 0.6552\n",
      "Epoch 10/34\n",
      "345/345 [==============================] - 0s 847us/step - loss: 0.2582 - accuracy: 0.7217 - val_loss: 0.3322 - val_accuracy: 0.6552\n",
      "Epoch 11/34\n",
      "345/345 [==============================] - 0s 832us/step - loss: 0.2565 - accuracy: 0.7304 - val_loss: 0.3311 - val_accuracy: 0.6207\n",
      "Epoch 12/34\n",
      "345/345 [==============================] - 0s 1ms/step - loss: 0.2565 - accuracy: 0.7362 - val_loss: 0.3321 - val_accuracy: 0.6552\n",
      "Epoch 13/34\n",
      "345/345 [==============================] - 0s 824us/step - loss: 0.2551 - accuracy: 0.7246 - val_loss: 0.3350 - val_accuracy: 0.6552\n",
      "Epoch 14/34\n",
      "345/345 [==============================] - 0s 816us/step - loss: 0.2556 - accuracy: 0.7304 - val_loss: 0.3310 - val_accuracy: 0.6552\n",
      "Epoch 15/34\n",
      "345/345 [==============================] - 0s 1ms/step - loss: 0.2558 - accuracy: 0.7275 - val_loss: 0.3342 - val_accuracy: 0.6552\n",
      "Epoch 16/34\n",
      "345/345 [==============================] - 0s 833us/step - loss: 0.2545 - accuracy: 0.7159 - val_loss: 0.3333 - val_accuracy: 0.6437\n",
      "Epoch 17/34\n",
      "345/345 [==============================] - 0s 842us/step - loss: 0.2562 - accuracy: 0.7275 - val_loss: 0.3319 - val_accuracy: 0.6552\n",
      "Epoch 18/34\n",
      "345/345 [==============================] - 0s 1ms/step - loss: 0.2538 - accuracy: 0.7246 - val_loss: 0.3276 - val_accuracy: 0.6552\n",
      "Epoch 19/34\n",
      "345/345 [==============================] - 0s 820us/step - loss: 0.2511 - accuracy: 0.7304 - val_loss: 0.3334 - val_accuracy: 0.6552\n",
      "Epoch 20/34\n",
      "345/345 [==============================] - 0s 992us/step - loss: 0.2519 - accuracy: 0.7391 - val_loss: 0.3252 - val_accuracy: 0.6437\n",
      "Epoch 21/34\n",
      "345/345 [==============================] - 0s 1ms/step - loss: 0.2509 - accuracy: 0.7304 - val_loss: 0.3337 - val_accuracy: 0.6437\n",
      "Epoch 22/34\n",
      "345/345 [==============================] - 0s 1ms/step - loss: 0.2523 - accuracy: 0.7362 - val_loss: 0.3305 - val_accuracy: 0.6552\n",
      "Epoch 23/34\n",
      "345/345 [==============================] - 0s 838us/step - loss: 0.2499 - accuracy: 0.7304 - val_loss: 0.3315 - val_accuracy: 0.6437\n",
      "Epoch 24/34\n",
      "345/345 [==============================] - 0s 1ms/step - loss: 0.2508 - accuracy: 0.7333 - val_loss: 0.3247 - val_accuracy: 0.6552\n",
      "Epoch 25/34\n",
      "345/345 [==============================] - 0s 874us/step - loss: 0.2514 - accuracy: 0.7391 - val_loss: 0.3235 - val_accuracy: 0.6552\n",
      "Epoch 26/34\n",
      "345/345 [==============================] - 0s 903us/step - loss: 0.2493 - accuracy: 0.7217 - val_loss: 0.3275 - val_accuracy: 0.6552\n",
      "Epoch 27/34\n",
      "345/345 [==============================] - 0s 1ms/step - loss: 0.2512 - accuracy: 0.7304 - val_loss: 0.3234 - val_accuracy: 0.6552\n",
      "Epoch 28/34\n",
      "345/345 [==============================] - 0s 821us/step - loss: 0.2482 - accuracy: 0.7217 - val_loss: 0.3336 - val_accuracy: 0.6437\n",
      "Epoch 29/34\n",
      "345/345 [==============================] - 0s 818us/step - loss: 0.2489 - accuracy: 0.7449 - val_loss: 0.3221 - val_accuracy: 0.6552\n",
      "Epoch 30/34\n",
      "345/345 [==============================] - 0s 1ms/step - loss: 0.2491 - accuracy: 0.7333 - val_loss: 0.3218 - val_accuracy: 0.6552\n",
      "Epoch 31/34\n",
      "345/345 [==============================] - 0s 831us/step - loss: 0.2468 - accuracy: 0.7362 - val_loss: 0.3205 - val_accuracy: 0.6437\n",
      "Epoch 32/34\n",
      "345/345 [==============================] - 0s 837us/step - loss: 0.2501 - accuracy: 0.7275 - val_loss: 0.3201 - val_accuracy: 0.6437\n",
      "Epoch 33/34\n",
      "345/345 [==============================] - 0s 1ms/step - loss: 0.2476 - accuracy: 0.7304 - val_loss: 0.3246 - val_accuracy: 0.6552\n",
      "Epoch 34/34\n",
      "345/345 [==============================] - 0s 914us/step - loss: 0.2461 - accuracy: 0.7333 - val_loss: 0.3293 - val_accuracy: 0.6437\n"
     ]
    }
   ],
   "source": [
    "model.compile(optimizer='adam',\n",
    "              loss='mse',\n",
    "              metrics=['accuracy'])\n",
    "\n",
    "history = model.fit(X_train, y_train, epochs=34, batch_size=1, validation_data=(X_val, y_val))"
   ]
  },
  {
   "cell_type": "code",
   "execution_count": 12,
   "metadata": {},
   "outputs": [
    {
     "data": {
      "image/png": "[encoded data removed]",
      "text/plain": [
       "<Figure size 432x288 with 1 Axes>"
      ]
     },
     "metadata": {
      "needs_background": "light"
     },
     "output_type": "display_data"
    }
   ],
   "source": [
    "loss_train = history.history['loss']\n",
    "loss_val = history.history['val_loss']\n",
    "epochs = range(1,35)\n",
    "plt.plot(epochs, loss_train, 'g', label='Training loss')\n",
    "plt.plot(epochs, loss_val, 'b', label='validation loss')\n",
    "plt.title('Training and Validation loss')\n",
    "plt.xlabel('Epochs')\n",
    "plt.ylabel('Loss')\n",
    "plt.legend()\n",
    "plt.show()"
   ]
  },
  {
   "cell_type": "code",
   "execution_count": null,
   "metadata": {},
   "outputs": [],
   "source": [
    "loss_train = history.history['accuracy']\n",
    "loss_val = history.history['val_accuracy']\n",
    "epochs = range(1,35)\n",
    "plt.plot(epochs, loss_train, 'g', label='Training accuracy')\n",
    "plt.plot(epochs, loss_val, 'b', label='validation accuracy')\n",
    "plt.title('Training and Validation accuracy')\n",
    "plt.xlabel('Epochs')\n",
    "plt.ylabel('Accuracy')\n",
    "plt.legend()\n",
    "plt.show()"
   ]
  },
  {
   "cell_type": "code",
   "execution_count": null,
   "metadata": {},
   "outputs": [],
   "source": []
  }
 ],
 "metadata": {
  "kernelspec": {
   "display_name": "Python 3",
   "language": "python",
   "name": "python3"
  },
  "language_info": {
   "codemirror_mode": {
    "name": "ipython",
    "version": 3
   },
   "file_extension": ".py",
   "mimetype": "text/x-python",
   "name": "python",
   "nbconvert_exporter": "python",
   "pygments_lexer": "ipython3",
   "version": "3.8.5"
  }
 },
 "nbformat": 4,
 "nbformat_minor": 4
}
