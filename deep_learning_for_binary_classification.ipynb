{
 "cells": [
  {
   "cell_type": "code",
   "execution_count": 1,
   "metadata": {},
   "outputs": [],
   "source": [
    "%load_ext autoreload\n",
    "%autoreload"
   ]
  },
  {
   "cell_type": "code",
   "execution_count": 2,
   "metadata": {},
   "outputs": [],
   "source": [
    "import pandas as pd\n",
    "from sklearn.model_selection import train_test_split\n",
    "import numpy as np\n",
    "\n",
    "import tensorflow as tf\n",
    "from tensorflow import keras\n",
    "from tensorflow.keras.models import Sequential\n",
    "from tensorflow.keras.layers import Activation, Dense, Flatten\n",
    "from tensorflow.keras.optimizers import Adam\n",
    "from tensorflow.keras.metrics import binary_crossentropy"
   ]
  },
  {
   "cell_type": "code",
   "execution_count": 3,
   "metadata": {},
   "outputs": [],
   "source": [
    "dl = pd.DataFrame({\n",
    "    'prop_1': [4.06, 3.63, 3.63, 4.11, 4.00],\n",
    "    'prop_2': [71.01, 65.62, 68.90, 75.59,70.86],\n",
    "    'prop_3':[57.20,52.68,58.29,62.81,58.05],\n",
    "    'prop_4':[5.82,5.44,6.06,6.44,6.06],\n",
    "    'Activity':[1,1,1,1,1]\n",
    "})"
   ]
  },
  {
   "cell_type": "code",
   "execution_count": 4,
   "metadata": {},
   "outputs": [
    {
     "name": "stdout",
     "output_type": "stream",
     "text": [
      "   prop_1  prop_2  prop_3  prop_4  Activity\n",
      "0    4.06   71.01   57.20    5.82         1\n",
      "1    3.63   65.62   52.68    5.44         1\n",
      "2    3.63   68.90   58.29    6.06         1\n",
      "3    4.11   75.59   62.81    6.44         1\n",
      "4    4.00   70.86   58.05    6.06         1\n"
     ]
    }
   ],
   "source": [
    "print(dl)"
   ]
  },
  {
   "cell_type": "code",
   "execution_count": 5,
   "metadata": {},
   "outputs": [
    {
     "name": "stdout",
     "output_type": "stream",
     "text": [
      "       prop_1     prop_2     prop_3    prop_4  Activity\n",
      "0    4.060000  71.010000  57.200001  5.820000         1\n",
      "1    3.630000  65.620000  52.680000  5.440000         1\n",
      "2    3.630000  68.900000  58.290001  6.060000         1\n",
      "3    4.110000  75.590000  62.810001  6.440000         1\n",
      "4    4.000000  70.860000  58.049999  6.060000         1\n",
      "..        ...        ...        ...       ...       ...\n",
      "535  5.289450  49.043544  40.465771  4.111193         1\n",
      "536  5.703150  50.957793  44.165035  4.620044         1\n",
      "537  5.895225  53.324354  44.116573  4.418119         1\n",
      "538  5.880450  52.831657  44.165035  4.620044         1\n",
      "539  5.836125  52.694348  48.098534  4.418119         1\n",
      "\n",
      "[540 rows x 5 columns]\n"
     ]
    }
   ],
   "source": [
    "df = pd.read_csv('molecular_activity.csv')\n",
    "df[\"prop_3\"] = df[\"prop_3\"].str.replace(\" \", \"\").astype(\"float32\")\n",
    "\n",
    "print(df)"
   ]
  },
  {
   "cell_type": "code",
   "execution_count": 6,
   "metadata": {},
   "outputs": [],
   "source": [
    "properties = list(df.columns.values)"
   ]
  },
  {
   "cell_type": "code",
   "execution_count": 7,
   "metadata": {},
   "outputs": [
    {
     "data": {
      "text/plain": [
       "['prop_1', 'prop_2', 'prop_3', 'prop_4', 'Activity']"
      ]
     },
     "execution_count": 7,
     "metadata": {},
     "output_type": "execute_result"
    }
   ],
   "source": [
    "properties"
   ]
  },
  {
   "cell_type": "code",
   "execution_count": 8,
   "metadata": {},
   "outputs": [],
   "source": [
    "properties.remove('Activity')"
   ]
  },
  {
   "cell_type": "code",
   "execution_count": 9,
   "metadata": {},
   "outputs": [
    {
     "data": {
      "text/plain": [
       "['prop_1', 'prop_2', 'prop_3', 'prop_4']"
      ]
     },
     "execution_count": 9,
     "metadata": {},
     "output_type": "execute_result"
    }
   ],
   "source": [
    "properties"
   ]
  },
  {
   "cell_type": "code",
   "execution_count": 10,
   "metadata": {},
   "outputs": [],
   "source": [
    "X = df[properties]\n",
    "y = df['Activity']"
   ]
  },
  {
   "cell_type": "code",
   "execution_count": 11,
   "metadata": {},
   "outputs": [
    {
     "data": {
      "text/html": [
       "<div>\n",
       "<style scoped>\n",
       "    .dataframe tbody tr th:only-of-type {\n",
       "        vertical-align: middle;\n",
       "    }\n",
       "\n",
       "    .dataframe tbody tr th {\n",
       "        vertical-align: top;\n",
       "    }\n",
       "\n",
       "    .dataframe thead th {\n",
       "        text-align: right;\n",
       "    }\n",
       "</style>\n",
       "<table border=\"1\" class=\"dataframe\">\n",
       "  <thead>\n",
       "    <tr style=\"text-align: right;\">\n",
       "      <th></th>\n",
       "      <th>prop_1</th>\n",
       "      <th>prop_2</th>\n",
       "      <th>prop_3</th>\n",
       "      <th>prop_4</th>\n",
       "    </tr>\n",
       "  </thead>\n",
       "  <tbody>\n",
       "    <tr>\n",
       "      <th>0</th>\n",
       "      <td>4.06</td>\n",
       "      <td>71.01</td>\n",
       "      <td>57.200001</td>\n",
       "      <td>5.82</td>\n",
       "    </tr>\n",
       "    <tr>\n",
       "      <th>1</th>\n",
       "      <td>3.63</td>\n",
       "      <td>65.62</td>\n",
       "      <td>52.680000</td>\n",
       "      <td>5.44</td>\n",
       "    </tr>\n",
       "    <tr>\n",
       "      <th>2</th>\n",
       "      <td>3.63</td>\n",
       "      <td>68.90</td>\n",
       "      <td>58.290001</td>\n",
       "      <td>6.06</td>\n",
       "    </tr>\n",
       "    <tr>\n",
       "      <th>3</th>\n",
       "      <td>4.11</td>\n",
       "      <td>75.59</td>\n",
       "      <td>62.810001</td>\n",
       "      <td>6.44</td>\n",
       "    </tr>\n",
       "    <tr>\n",
       "      <th>4</th>\n",
       "      <td>4.00</td>\n",
       "      <td>70.86</td>\n",
       "      <td>58.049999</td>\n",
       "      <td>6.06</td>\n",
       "    </tr>\n",
       "  </tbody>\n",
       "</table>\n",
       "</div>"
      ],
      "text/plain": [
       "   prop_1  prop_2     prop_3  prop_4\n",
       "0    4.06   71.01  57.200001    5.82\n",
       "1    3.63   65.62  52.680000    5.44\n",
       "2    3.63   68.90  58.290001    6.06\n",
       "3    4.11   75.59  62.810001    6.44\n",
       "4    4.00   70.86  58.049999    6.06"
      ]
     },
     "execution_count": 11,
     "metadata": {},
     "output_type": "execute_result"
    }
   ],
   "source": [
    "X.head()"
   ]
  },
  {
   "cell_type": "code",
   "execution_count": 12,
   "metadata": {},
   "outputs": [
    {
     "data": {
      "text/html": [
       "<div>\n",
       "<style scoped>\n",
       "    .dataframe tbody tr th:only-of-type {\n",
       "        vertical-align: middle;\n",
       "    }\n",
       "\n",
       "    .dataframe tbody tr th {\n",
       "        vertical-align: top;\n",
       "    }\n",
       "\n",
       "    .dataframe thead th {\n",
       "        text-align: right;\n",
       "    }\n",
       "</style>\n",
       "<table border=\"1\" class=\"dataframe\">\n",
       "  <thead>\n",
       "    <tr style=\"text-align: right;\">\n",
       "      <th></th>\n",
       "      <th>prop_1</th>\n",
       "      <th>prop_2</th>\n",
       "      <th>prop_3</th>\n",
       "      <th>prop_4</th>\n",
       "    </tr>\n",
       "  </thead>\n",
       "  <tbody>\n",
       "    <tr>\n",
       "      <th>count</th>\n",
       "      <td>540.000000</td>\n",
       "      <td>540.000000</td>\n",
       "      <td>540.000000</td>\n",
       "      <td>540.000000</td>\n",
       "    </tr>\n",
       "    <tr>\n",
       "      <th>mean</th>\n",
       "      <td>4.087454</td>\n",
       "      <td>65.960121</td>\n",
       "      <td>49.737110</td>\n",
       "      <td>4.984520</td>\n",
       "    </tr>\n",
       "    <tr>\n",
       "      <th>std</th>\n",
       "      <td>1.356507</td>\n",
       "      <td>14.918107</td>\n",
       "      <td>9.375500</td>\n",
       "      <td>1.709397</td>\n",
       "    </tr>\n",
       "    <tr>\n",
       "      <th>min</th>\n",
       "      <td>1.792560</td>\n",
       "      <td>41.810880</td>\n",
       "      <td>28.694540</td>\n",
       "      <td>1.620288</td>\n",
       "    </tr>\n",
       "    <tr>\n",
       "      <th>25%</th>\n",
       "      <td>2.986700</td>\n",
       "      <td>54.330760</td>\n",
       "      <td>43.237694</td>\n",
       "      <td>4.304450</td>\n",
       "    </tr>\n",
       "    <tr>\n",
       "      <th>50%</th>\n",
       "      <td>3.939100</td>\n",
       "      <td>63.727060</td>\n",
       "      <td>48.097507</td>\n",
       "      <td>5.252841</td>\n",
       "    </tr>\n",
       "    <tr>\n",
       "      <th>75%</th>\n",
       "      <td>5.018780</td>\n",
       "      <td>75.008000</td>\n",
       "      <td>55.819655</td>\n",
       "      <td>5.969100</td>\n",
       "    </tr>\n",
       "    <tr>\n",
       "      <th>max</th>\n",
       "      <td>7.770000</td>\n",
       "      <td>115.848000</td>\n",
       "      <td>83.300003</td>\n",
       "      <td>10.020000</td>\n",
       "    </tr>\n",
       "  </tbody>\n",
       "</table>\n",
       "</div>"
      ],
      "text/plain": [
       "           prop_1      prop_2      prop_3      prop_4\n",
       "count  540.000000  540.000000  540.000000  540.000000\n",
       "mean     4.087454   65.960121   49.737110    4.984520\n",
       "std      1.356507   14.918107    9.375500    1.709397\n",
       "min      1.792560   41.810880   28.694540    1.620288\n",
       "25%      2.986700   54.330760   43.237694    4.304450\n",
       "50%      3.939100   63.727060   48.097507    5.252841\n",
       "75%      5.018780   75.008000   55.819655    5.969100\n",
       "max      7.770000  115.848000   83.300003   10.020000"
      ]
     },
     "execution_count": 12,
     "metadata": {},
     "output_type": "execute_result"
    }
   ],
   "source": [
    "X.describe()"
   ]
  },
  {
   "cell_type": "code",
   "execution_count": 13,
   "metadata": {},
   "outputs": [],
   "source": [
    "X_train, X_test,y_train,y_test = train_test_split(X,y, test_size=0.3, random_state=0)"
   ]
  },
  {
   "cell_type": "code",
   "execution_count": 14,
   "metadata": {},
   "outputs": [
    {
     "data": {
      "text/plain": [
       "(prop_1    float64\n",
       " prop_2    float64\n",
       " prop_3    float32\n",
       " prop_4    float64\n",
       " dtype: object,\n",
       " (378,))"
      ]
     },
     "execution_count": 14,
     "metadata": {},
     "output_type": "execute_result"
    }
   ],
   "source": [
    "X_train.dtypes, y_train.shape"
   ]
  },
  {
   "cell_type": "markdown",
   "metadata": {},
   "source": [
    "model creation, compilation,fitting and evaluation"
   ]
  },
  {
   "cell_type": "code",
   "execution_count": 15,
   "metadata": {},
   "outputs": [],
   "source": [
    "model = keras.Sequential([\n",
    "    keras.layers.Flatten(input_shape=(4,)),\n",
    "    keras.layers.Dense(16, activation=\"relu\"),\n",
    " \tkeras.layers.Dense(16, activation=tf.nn.relu),\n",
    "     keras.layers.Dense(1, activation=tf.nn.sigmoid),\n",
    "])"
   ]
  },
  {
   "cell_type": "code",
   "execution_count": 16,
   "metadata": {},
   "outputs": [],
   "source": [
    "model.compile(optimizer='Adam',\n",
    "             loss='binary_crossentropy',\n",
    "             metrics=['accuracy'])"
   ]
  },
  {
   "cell_type": "code",
   "execution_count": 17,
   "metadata": {},
   "outputs": [
    {
     "name": "stdout",
     "output_type": "stream",
     "text": [
      "Model: \"sequential\"\n",
      "_________________________________________________________________\n",
      "Layer (type)                 Output Shape              Param #   \n",
      "=================================================================\n",
      "flatten (Flatten)            (None, 4)                 0         \n",
      "_________________________________________________________________\n",
      "dense (Dense)                (None, 16)                80        \n",
      "_________________________________________________________________\n",
      "dense_1 (Dense)              (None, 16)                272       \n",
      "_________________________________________________________________\n",
      "dense_2 (Dense)              (None, 1)                 17        \n",
      "=================================================================\n",
      "Total params: 369\n",
      "Trainable params: 369\n",
      "Non-trainable params: 0\n",
      "_________________________________________________________________\n"
     ]
    }
   ],
   "source": [
    "model.summary()"
   ]
  },
  {
   "cell_type": "code",
   "execution_count": 18,
   "metadata": {},
   "outputs": [
    {
     "name": "stdout",
     "output_type": "stream",
     "text": [
      "Epoch 1/50\n",
      "378/378 [==============================] - 0s 573us/step - loss: 0.6373 - accuracy: 0.7831\n",
      "Epoch 2/50\n",
      "378/378 [==============================] - 0s 593us/step - loss: 0.5477 - accuracy: 0.7963\n",
      "Epoch 3/50\n",
      "378/378 [==============================] - 0s 662us/step - loss: 0.5416 - accuracy: 0.7884\n",
      "Epoch 4/50\n",
      "378/378 [==============================] - 0s 767us/step - loss: 0.5274 - accuracy: 0.7910\n",
      "Epoch 5/50\n",
      "378/378 [==============================] - 0s 590us/step - loss: 0.5382 - accuracy: 0.8016\n",
      "Epoch 6/50\n",
      "378/378 [==============================] - 0s 680us/step - loss: 0.5193 - accuracy: 0.7989\n",
      "Epoch 7/50\n",
      "378/378 [==============================] - 0s 1ms/step - loss: 0.5209 - accuracy: 0.7989\n",
      "Epoch 8/50\n",
      "378/378 [==============================] - 0s 617us/step - loss: 0.5051 - accuracy: 0.8042\n",
      "Epoch 9/50\n",
      "378/378 [==============================] - 0s 586us/step - loss: 0.4938 - accuracy: 0.8016\n",
      "Epoch 10/50\n",
      "378/378 [==============================] - 0s 626us/step - loss: 0.5064 - accuracy: 0.8042\n",
      "Epoch 11/50\n",
      "378/378 [==============================] - 0s 871us/step - loss: 0.4848 - accuracy: 0.7963\n",
      "Epoch 12/50\n",
      "378/378 [==============================] - 0s 616us/step - loss: 0.4842 - accuracy: 0.8069\n",
      "Epoch 13/50\n",
      "378/378 [==============================] - 0s 602us/step - loss: 0.4853 - accuracy: 0.8122\n",
      "Epoch 14/50\n",
      "378/378 [==============================] - 0s 589us/step - loss: 0.4745 - accuracy: 0.8122\n",
      "Epoch 15/50\n",
      "378/378 [==============================] - 0s 815us/step - loss: 0.4735 - accuracy: 0.8016\n",
      "Epoch 16/50\n",
      "378/378 [==============================] - 0s 633us/step - loss: 0.4981 - accuracy: 0.8069\n",
      "Epoch 17/50\n",
      "378/378 [==============================] - 0s 598us/step - loss: 0.4631 - accuracy: 0.8069\n",
      "Epoch 18/50\n",
      "378/378 [==============================] - 0s 630us/step - loss: 0.4605 - accuracy: 0.7989\n",
      "Epoch 19/50\n",
      "378/378 [==============================] - 0s 849us/step - loss: 0.4622 - accuracy: 0.8042\n",
      "Epoch 20/50\n",
      "378/378 [==============================] - 0s 599us/step - loss: 0.4512 - accuracy: 0.8280\n",
      "Epoch 21/50\n",
      "378/378 [==============================] - 0s 583us/step - loss: 0.4497 - accuracy: 0.8228\n",
      "Epoch 22/50\n",
      "378/378 [==============================] - 0s 633us/step - loss: 0.4494 - accuracy: 0.8360\n",
      "Epoch 23/50\n",
      "378/378 [==============================] - 0s 814us/step - loss: 0.4363 - accuracy: 0.8122\n",
      "Epoch 24/50\n",
      "378/378 [==============================] - 0s 628us/step - loss: 0.4499 - accuracy: 0.8201\n",
      "Epoch 25/50\n",
      "378/378 [==============================] - 0s 622us/step - loss: 0.4323 - accuracy: 0.8360\n",
      "Epoch 26/50\n",
      "378/378 [==============================] - 0s 738us/step - loss: 0.4249 - accuracy: 0.8280\n",
      "Epoch 27/50\n",
      "378/378 [==============================] - 0s 710us/step - loss: 0.4294 - accuracy: 0.8148\n",
      "Epoch 28/50\n",
      "378/378 [==============================] - 0s 606us/step - loss: 0.4390 - accuracy: 0.8228\n",
      "Epoch 29/50\n",
      "378/378 [==============================] - 0s 597us/step - loss: 0.4263 - accuracy: 0.8307\n",
      "Epoch 30/50\n",
      "378/378 [==============================] - 0s 770us/step - loss: 0.4396 - accuracy: 0.8254\n",
      "Epoch 31/50\n",
      "378/378 [==============================] - 0s 729us/step - loss: 0.4284 - accuracy: 0.8307\n",
      "Epoch 32/50\n",
      "378/378 [==============================] - 0s 625us/step - loss: 0.4208 - accuracy: 0.8466\n",
      "Epoch 33/50\n",
      "378/378 [==============================] - 0s 631us/step - loss: 0.4152 - accuracy: 0.8307\n",
      "Epoch 34/50\n",
      "378/378 [==============================] - 0s 825us/step - loss: 0.4343 - accuracy: 0.8254\n",
      "Epoch 35/50\n",
      "378/378 [==============================] - 0s 619us/step - loss: 0.4135 - accuracy: 0.8439\n",
      "Epoch 36/50\n",
      "378/378 [==============================] - 0s 593us/step - loss: 0.4188 - accuracy: 0.8360\n",
      "Epoch 37/50\n",
      "378/378 [==============================] - 0s 619us/step - loss: 0.4266 - accuracy: 0.8280\n",
      "Epoch 38/50\n",
      "378/378 [==============================] - 0s 892us/step - loss: 0.4215 - accuracy: 0.8386\n",
      "Epoch 39/50\n",
      "378/378 [==============================] - 0s 599us/step - loss: 0.4191 - accuracy: 0.8201\n",
      "Epoch 40/50\n",
      "378/378 [==============================] - 0s 623us/step - loss: 0.4266 - accuracy: 0.8307\n",
      "Epoch 41/50\n",
      "378/378 [==============================] - 0s 604us/step - loss: 0.4308 - accuracy: 0.8175\n",
      "Epoch 42/50\n",
      "378/378 [==============================] - 0s 858us/step - loss: 0.4185 - accuracy: 0.8386\n",
      "Epoch 43/50\n",
      "378/378 [==============================] - 0s 591us/step - loss: 0.4248 - accuracy: 0.8254\n",
      "Epoch 44/50\n",
      "378/378 [==============================] - 0s 616us/step - loss: 0.4235 - accuracy: 0.8413\n",
      "Epoch 45/50\n",
      "378/378 [==============================] - 0s 624us/step - loss: 0.4202 - accuracy: 0.8519\n",
      "Epoch 46/50\n",
      "378/378 [==============================] - 0s 838us/step - loss: 0.4207 - accuracy: 0.8386\n",
      "Epoch 47/50\n",
      "378/378 [==============================] - 0s 611us/step - loss: 0.4163 - accuracy: 0.8360\n",
      "Epoch 48/50\n",
      "378/378 [==============================] - 0s 617us/step - loss: 0.4223 - accuracy: 0.8333\n",
      "Epoch 49/50\n",
      "378/378 [==============================] - 0s 621us/step - loss: 0.4182 - accuracy: 0.8413\n",
      "Epoch 50/50\n",
      "378/378 [==============================] - 0s 836us/step - loss: 0.4059 - accuracy: 0.8307\n"
     ]
    },
    {
     "data": {
      "text/plain": [
       "<tensorflow.python.keras.callbacks.History at 0x7f8ca42ea670>"
      ]
     },
     "execution_count": 18,
     "metadata": {},
     "output_type": "execute_result"
    }
   ],
   "source": [
    "model.fit(X_train, y_train, epochs=50, batch_size=1)"
   ]
  },
  {
   "cell_type": "code",
   "execution_count": 19,
   "metadata": {},
   "outputs": [
    {
     "name": "stdout",
     "output_type": "stream",
     "text": [
      "6/6 [==============================] - 0s 1ms/step - loss: 0.4630 - accuracy: 0.8086\n",
      "Test accuracy: 0.8086419701576233\n"
     ]
    }
   ],
   "source": [
    "test_loss, test_acc = model.evaluate(X_test, y_test)\n",
    "print('Test accuracy:', test_acc)"
   ]
  },
  {
   "cell_type": "markdown",
   "metadata": {},
   "source": [
    "Using our model to predict values of a new dataset"
   ]
  },
  {
   "cell_type": "code",
   "execution_count": 20,
   "metadata": {},
   "outputs": [],
   "source": [
    "a= np.array([[4.02,70.86,62.05,7.0],[2.99,60.30,57.46,6.06]])"
   ]
  },
  {
   "cell_type": "code",
   "execution_count": 21,
   "metadata": {},
   "outputs": [
    {
     "data": {
      "text/plain": [
       "array([[ 4.02, 70.86, 62.05,  7.  ],\n",
       "       [ 2.99, 60.3 , 57.46,  6.06]])"
      ]
     },
     "execution_count": 21,
     "metadata": {},
     "output_type": "execute_result"
    }
   ],
   "source": [
    "a"
   ]
  },
  {
   "cell_type": "code",
   "execution_count": 22,
   "metadata": {},
   "outputs": [
    {
     "data": {
      "text/plain": [
       "array([[0.8118798 ],\n",
       "       [0.47850585]], dtype=float32)"
      ]
     },
     "execution_count": 22,
     "metadata": {},
     "output_type": "execute_result"
    }
   ],
   "source": [
    "model.predict(a)"
   ]
  },
  {
   "cell_type": "markdown",
   "metadata": {},
   "source": [
    "#### Conclusion\n",
    "\n",
    "In this example, we developed a working Neural Network for the binary classification problem. The same problem can also be solved using other algorithms such as Logistic Regression, Naive Bayes, K-Nearest Neighbours. The choice of the algorithm to choose needs to be driven by the problem at hand and factors like, how much data size is available, computation power, etc. Deep Networks or Neural Networks are generally recommended if the available data size is large."
   ]
  },
  {
   "cell_type": "code",
   "execution_count": null,
   "metadata": {},
   "outputs": [],
   "source": []
  }
 ],
 "metadata": {
  "kernelspec": {
   "display_name": "Python 3",
   "language": "python",
   "name": "python3"
  },
  "language_info": {
   "codemirror_mode": {
    "name": "ipython",
    "version": 3
   },
   "file_extension": ".py",
   "mimetype": "text/x-python",
   "name": "python",
   "nbconvert_exporter": "python",
   "pygments_lexer": "ipython3",
   "version": "3.8.5"
  }
 },
 "nbformat": 4,
 "nbformat_minor": 4
}
